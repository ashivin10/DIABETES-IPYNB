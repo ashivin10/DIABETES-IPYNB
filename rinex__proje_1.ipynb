{
  "nbformat": 4,
  "nbformat_minor": 0,
  "metadata": {
    "colab": {
      "name": "rinex _proje_1.ipynb",
      "provenance": [],
      "collapsed_sections": [],
      "authorship_tag": "ABX9TyOvGwtHVAzlcHXoa7uigy2Z",
      "include_colab_link": true
    },
    "kernelspec": {
      "name": "python3",
      "display_name": "Python 3"
    },
    "language_info": {
      "name": "python"
    }
  },
  "cells": [
    {
      "cell_type": "markdown",
      "metadata": {
        "id": "view-in-github",
        "colab_type": "text"
      },
      "source": [
        "<a href=\"https://colab.research.google.com/github/ashivin10/rinex_majorProject/blob/main/rinex__proje_1.ipynb\" target=\"_parent\"><img src=\"https://colab.research.google.com/assets/colab-badge.svg\" alt=\"Open In Colab\"/></a>"
      ]
    },
    {
      "cell_type": "code",
      "execution_count": 130,
      "metadata": {
        "colab": {
          "base_uri": "https://localhost:8080/",
          "height": 424
        },
        "id": "PE9Mq3OEl5lp",
        "outputId": "8add86e9-b81c-4eef-a55c-74ef0b7116ed"
      },
      "outputs": [
        {
          "output_type": "execute_result",
          "data": {
            "text/plain": [
              "           Date         Open         High          Low        Close  \\\n",
              "0    2020-06-16   229.762299   236.394302   228.426147   234.416168   \n",
              "1    2020-06-17   234.492371   235.954056   229.341644   233.028275   \n",
              "2    2020-06-18   232.898697   234.570648   228.951431   232.101166   \n",
              "3    2020-06-19   231.954971   232.154114   226.795181   227.138290   \n",
              "4    2020-06-20   226.976364   231.449020   226.640625   229.274261   \n",
              "..          ...          ...          ...          ...          ...   \n",
              "725  2022-06-11  1665.217896  1679.314209  1507.038940  1529.663452   \n",
              "726  2022-06-12  1530.189697  1539.705078  1436.183960  1445.216553   \n",
              "727  2022-06-13  1443.835449  1448.738037  1181.948242  1204.582764   \n",
              "728  2022-06-14  1204.555298  1252.471802  1094.701904  1211.662842   \n",
              "729  2022-06-15  1204.709473  1219.879272  1025.767456  1091.898193   \n",
              "\n",
              "       Adj Close       Volume  \n",
              "0     234.416168   7965648016  \n",
              "1     233.028275   7701391592  \n",
              "2     232.101166   6713800872  \n",
              "3     227.138290   6946372590  \n",
              "4     229.274261   6252830566  \n",
              "..           ...          ...  \n",
              "725  1529.663452  21127089064  \n",
              "726  1445.216553  23465074882  \n",
              "727  1204.582764  45162788786  \n",
              "728  1211.662842  33327826525  \n",
              "729  1091.898193  30485518336  \n",
              "\n",
              "[730 rows x 7 columns]"
            ],
            "text/html": [
              "\n",
              "  <div id=\"df-5202c057-07d2-4711-b027-3f09ab0e830d\">\n",
              "    <div class=\"colab-df-container\">\n",
              "      <div>\n",
              "<style scoped>\n",
              "    .dataframe tbody tr th:only-of-type {\n",
              "        vertical-align: middle;\n",
              "    }\n",
              "\n",
              "    .dataframe tbody tr th {\n",
              "        vertical-align: top;\n",
              "    }\n",
              "\n",
              "    .dataframe thead th {\n",
              "        text-align: right;\n",
              "    }\n",
              "</style>\n",
              "<table border=\"1\" class=\"dataframe\">\n",
              "  <thead>\n",
              "    <tr style=\"text-align: right;\">\n",
              "      <th></th>\n",
              "      <th>Date</th>\n",
              "      <th>Open</th>\n",
              "      <th>High</th>\n",
              "      <th>Low</th>\n",
              "      <th>Close</th>\n",
              "      <th>Adj Close</th>\n",
              "      <th>Volume</th>\n",
              "    </tr>\n",
              "  </thead>\n",
              "  <tbody>\n",
              "    <tr>\n",
              "      <th>0</th>\n",
              "      <td>2020-06-16</td>\n",
              "      <td>229.762299</td>\n",
              "      <td>236.394302</td>\n",
              "      <td>228.426147</td>\n",
              "      <td>234.416168</td>\n",
              "      <td>234.416168</td>\n",
              "      <td>7965648016</td>\n",
              "    </tr>\n",
              "    <tr>\n",
              "      <th>1</th>\n",
              "      <td>2020-06-17</td>\n",
              "      <td>234.492371</td>\n",
              "      <td>235.954056</td>\n",
              "      <td>229.341644</td>\n",
              "      <td>233.028275</td>\n",
              "      <td>233.028275</td>\n",
              "      <td>7701391592</td>\n",
              "    </tr>\n",
              "    <tr>\n",
              "      <th>2</th>\n",
              "      <td>2020-06-18</td>\n",
              "      <td>232.898697</td>\n",
              "      <td>234.570648</td>\n",
              "      <td>228.951431</td>\n",
              "      <td>232.101166</td>\n",
              "      <td>232.101166</td>\n",
              "      <td>6713800872</td>\n",
              "    </tr>\n",
              "    <tr>\n",
              "      <th>3</th>\n",
              "      <td>2020-06-19</td>\n",
              "      <td>231.954971</td>\n",
              "      <td>232.154114</td>\n",
              "      <td>226.795181</td>\n",
              "      <td>227.138290</td>\n",
              "      <td>227.138290</td>\n",
              "      <td>6946372590</td>\n",
              "    </tr>\n",
              "    <tr>\n",
              "      <th>4</th>\n",
              "      <td>2020-06-20</td>\n",
              "      <td>226.976364</td>\n",
              "      <td>231.449020</td>\n",
              "      <td>226.640625</td>\n",
              "      <td>229.274261</td>\n",
              "      <td>229.274261</td>\n",
              "      <td>6252830566</td>\n",
              "    </tr>\n",
              "    <tr>\n",
              "      <th>...</th>\n",
              "      <td>...</td>\n",
              "      <td>...</td>\n",
              "      <td>...</td>\n",
              "      <td>...</td>\n",
              "      <td>...</td>\n",
              "      <td>...</td>\n",
              "      <td>...</td>\n",
              "    </tr>\n",
              "    <tr>\n",
              "      <th>725</th>\n",
              "      <td>2022-06-11</td>\n",
              "      <td>1665.217896</td>\n",
              "      <td>1679.314209</td>\n",
              "      <td>1507.038940</td>\n",
              "      <td>1529.663452</td>\n",
              "      <td>1529.663452</td>\n",
              "      <td>21127089064</td>\n",
              "    </tr>\n",
              "    <tr>\n",
              "      <th>726</th>\n",
              "      <td>2022-06-12</td>\n",
              "      <td>1530.189697</td>\n",
              "      <td>1539.705078</td>\n",
              "      <td>1436.183960</td>\n",
              "      <td>1445.216553</td>\n",
              "      <td>1445.216553</td>\n",
              "      <td>23465074882</td>\n",
              "    </tr>\n",
              "    <tr>\n",
              "      <th>727</th>\n",
              "      <td>2022-06-13</td>\n",
              "      <td>1443.835449</td>\n",
              "      <td>1448.738037</td>\n",
              "      <td>1181.948242</td>\n",
              "      <td>1204.582764</td>\n",
              "      <td>1204.582764</td>\n",
              "      <td>45162788786</td>\n",
              "    </tr>\n",
              "    <tr>\n",
              "      <th>728</th>\n",
              "      <td>2022-06-14</td>\n",
              "      <td>1204.555298</td>\n",
              "      <td>1252.471802</td>\n",
              "      <td>1094.701904</td>\n",
              "      <td>1211.662842</td>\n",
              "      <td>1211.662842</td>\n",
              "      <td>33327826525</td>\n",
              "    </tr>\n",
              "    <tr>\n",
              "      <th>729</th>\n",
              "      <td>2022-06-15</td>\n",
              "      <td>1204.709473</td>\n",
              "      <td>1219.879272</td>\n",
              "      <td>1025.767456</td>\n",
              "      <td>1091.898193</td>\n",
              "      <td>1091.898193</td>\n",
              "      <td>30485518336</td>\n",
              "    </tr>\n",
              "  </tbody>\n",
              "</table>\n",
              "<p>730 rows × 7 columns</p>\n",
              "</div>\n",
              "      <button class=\"colab-df-convert\" onclick=\"convertToInteractive('df-5202c057-07d2-4711-b027-3f09ab0e830d')\"\n",
              "              title=\"Convert this dataframe to an interactive table.\"\n",
              "              style=\"display:none;\">\n",
              "        \n",
              "  <svg xmlns=\"http://www.w3.org/2000/svg\" height=\"24px\"viewBox=\"0 0 24 24\"\n",
              "       width=\"24px\">\n",
              "    <path d=\"M0 0h24v24H0V0z\" fill=\"none\"/>\n",
              "    <path d=\"M18.56 5.44l.94 2.06.94-2.06 2.06-.94-2.06-.94-.94-2.06-.94 2.06-2.06.94zm-11 1L8.5 8.5l.94-2.06 2.06-.94-2.06-.94L8.5 2.5l-.94 2.06-2.06.94zm10 10l.94 2.06.94-2.06 2.06-.94-2.06-.94-.94-2.06-.94 2.06-2.06.94z\"/><path d=\"M17.41 7.96l-1.37-1.37c-.4-.4-.92-.59-1.43-.59-.52 0-1.04.2-1.43.59L10.3 9.45l-7.72 7.72c-.78.78-.78 2.05 0 2.83L4 21.41c.39.39.9.59 1.41.59.51 0 1.02-.2 1.41-.59l7.78-7.78 2.81-2.81c.8-.78.8-2.07 0-2.86zM5.41 20L4 18.59l7.72-7.72 1.47 1.35L5.41 20z\"/>\n",
              "  </svg>\n",
              "      </button>\n",
              "      \n",
              "  <style>\n",
              "    .colab-df-container {\n",
              "      display:flex;\n",
              "      flex-wrap:wrap;\n",
              "      gap: 12px;\n",
              "    }\n",
              "\n",
              "    .colab-df-convert {\n",
              "      background-color: #E8F0FE;\n",
              "      border: none;\n",
              "      border-radius: 50%;\n",
              "      cursor: pointer;\n",
              "      display: none;\n",
              "      fill: #1967D2;\n",
              "      height: 32px;\n",
              "      padding: 0 0 0 0;\n",
              "      width: 32px;\n",
              "    }\n",
              "\n",
              "    .colab-df-convert:hover {\n",
              "      background-color: #E2EBFA;\n",
              "      box-shadow: 0px 1px 2px rgba(60, 64, 67, 0.3), 0px 1px 3px 1px rgba(60, 64, 67, 0.15);\n",
              "      fill: #174EA6;\n",
              "    }\n",
              "\n",
              "    [theme=dark] .colab-df-convert {\n",
              "      background-color: #3B4455;\n",
              "      fill: #D2E3FC;\n",
              "    }\n",
              "\n",
              "    [theme=dark] .colab-df-convert:hover {\n",
              "      background-color: #434B5C;\n",
              "      box-shadow: 0px 1px 3px 1px rgba(0, 0, 0, 0.15);\n",
              "      filter: drop-shadow(0px 1px 2px rgba(0, 0, 0, 0.3));\n",
              "      fill: #FFFFFF;\n",
              "    }\n",
              "  </style>\n",
              "\n",
              "      <script>\n",
              "        const buttonEl =\n",
              "          document.querySelector('#df-5202c057-07d2-4711-b027-3f09ab0e830d button.colab-df-convert');\n",
              "        buttonEl.style.display =\n",
              "          google.colab.kernel.accessAllowed ? 'block' : 'none';\n",
              "\n",
              "        async function convertToInteractive(key) {\n",
              "          const element = document.querySelector('#df-5202c057-07d2-4711-b027-3f09ab0e830d');\n",
              "          const dataTable =\n",
              "            await google.colab.kernel.invokeFunction('convertToInteractive',\n",
              "                                                     [key], {});\n",
              "          if (!dataTable) return;\n",
              "\n",
              "          const docLinkHtml = 'Like what you see? Visit the ' +\n",
              "            '<a target=\"_blank\" href=https://colab.research.google.com/notebooks/data_table.ipynb>data table notebook</a>'\n",
              "            + ' to learn more about interactive tables.';\n",
              "          element.innerHTML = '';\n",
              "          dataTable['output_type'] = 'display_data';\n",
              "          await google.colab.output.renderOutput(dataTable, element);\n",
              "          const docLink = document.createElement('div');\n",
              "          docLink.innerHTML = docLinkHtml;\n",
              "          element.appendChild(docLink);\n",
              "        }\n",
              "      </script>\n",
              "    </div>\n",
              "  </div>\n",
              "  "
            ]
          },
          "metadata": {},
          "execution_count": 130
        }
      ],
      "source": [
        "import pandas as pd\n",
        "df=pd.read_csv(\"/content/ETH.csv\")\n",
        "df"
      ]
    },
    {
      "cell_type": "code",
      "source": [
        "df.info()"
      ],
      "metadata": {
        "colab": {
          "base_uri": "https://localhost:8080/"
        },
        "id": "boS27rqpn7xX",
        "outputId": "df3dba80-4dee-4034-943a-dc30e1c19fe4"
      },
      "execution_count": 131,
      "outputs": [
        {
          "output_type": "stream",
          "name": "stdout",
          "text": [
            "<class 'pandas.core.frame.DataFrame'>\n",
            "RangeIndex: 730 entries, 0 to 729\n",
            "Data columns (total 7 columns):\n",
            " #   Column     Non-Null Count  Dtype  \n",
            "---  ------     --------------  -----  \n",
            " 0   Date       730 non-null    object \n",
            " 1   Open       730 non-null    float64\n",
            " 2   High       730 non-null    float64\n",
            " 3   Low        730 non-null    float64\n",
            " 4   Close      730 non-null    float64\n",
            " 5   Adj Close  730 non-null    float64\n",
            " 6   Volume     730 non-null    int64  \n",
            "dtypes: float64(5), int64(1), object(1)\n",
            "memory usage: 40.0+ KB\n"
          ]
        }
      ]
    },
    {
      "cell_type": "code",
      "source": [
        "df.shape\n"
      ],
      "metadata": {
        "colab": {
          "base_uri": "https://localhost:8080/"
        },
        "id": "RgPZAXZI72sy",
        "outputId": "6f268128-8b3b-4e26-ca96-7b43196d23a4"
      },
      "execution_count": 132,
      "outputs": [
        {
          "output_type": "execute_result",
          "data": {
            "text/plain": [
              "(730, 7)"
            ]
          },
          "metadata": {},
          "execution_count": 132
        }
      ]
    },
    {
      "cell_type": "code",
      "source": [
        "df=df.drop(labels=[\"Date\"],axis=1)\n"
      ],
      "metadata": {
        "id": "pqF-AIJzoMov"
      },
      "execution_count": 133,
      "outputs": []
    },
    {
      "cell_type": "code",
      "source": [
        "df.info()"
      ],
      "metadata": {
        "colab": {
          "base_uri": "https://localhost:8080/"
        },
        "id": "gT3o_abDDe_s",
        "outputId": "1fa4caa3-fd31-460c-b91f-f99912a9e30a"
      },
      "execution_count": 134,
      "outputs": [
        {
          "output_type": "stream",
          "name": "stdout",
          "text": [
            "<class 'pandas.core.frame.DataFrame'>\n",
            "RangeIndex: 730 entries, 0 to 729\n",
            "Data columns (total 6 columns):\n",
            " #   Column     Non-Null Count  Dtype  \n",
            "---  ------     --------------  -----  \n",
            " 0   Open       730 non-null    float64\n",
            " 1   High       730 non-null    float64\n",
            " 2   Low        730 non-null    float64\n",
            " 3   Close      730 non-null    float64\n",
            " 4   Adj Close  730 non-null    float64\n",
            " 5   Volume     730 non-null    int64  \n",
            "dtypes: float64(5), int64(1)\n",
            "memory usage: 34.3 KB\n"
          ]
        }
      ]
    },
    {
      "cell_type": "code",
      "source": [
        "#seperating input and output\n",
        "x=df.iloc[:,0:2].values\n",
        "y=df.iloc[:,2].values\n"
      ],
      "metadata": {
        "id": "9VxuOwXJqT9T"
      },
      "execution_count": 135,
      "outputs": []
    },
    {
      "cell_type": "code",
      "source": [
        "#splits x and y to 75% and 25%\n",
        "from sklearn.model_selection import train_test_split\n",
        "xtr,xte,ytr,yte=train_test_split(x,y,random_state=0)\n",
        "xt=xte"
      ],
      "metadata": {
        "id": "Bd89Nx68U6dX"
      },
      "execution_count": 142,
      "outputs": []
    },
    {
      "cell_type": "code",
      "source": [
        "\n",
        "from sklearn.linear_model import LinearRegression\n",
        "model=LinearRegression()\n",
        "model.fit(xtr,ytr)\n"
      ],
      "metadata": {
        "colab": {
          "base_uri": "https://localhost:8080/"
        },
        "id": "Fo_uKxMVV9qb",
        "outputId": "3a644528-82d5-4fc8-a80b-2b2dbd6ca9f1"
      },
      "execution_count": 143,
      "outputs": [
        {
          "output_type": "execute_result",
          "data": {
            "text/plain": [
              "LinearRegression()"
            ]
          },
          "metadata": {},
          "execution_count": 143
        }
      ]
    },
    {
      "cell_type": "markdown",
      "source": [
        ""
      ],
      "metadata": {
        "id": "M5I0EZ3usOQx"
      }
    },
    {
      "cell_type": "code",
      "source": [
        "ypred=model.predict(xte)\n",
        "ypred"
      ],
      "metadata": {
        "colab": {
          "base_uri": "https://localhost:8080/"
        },
        "id": "w1c8F9UfXrvX",
        "outputId": "82b8ec15-047f-481c-b33d-9435c4f8507a"
      },
      "execution_count": 144,
      "outputs": [
        {
          "output_type": "execute_result",
          "data": {
            "text/plain": [
              "array([ 692.82294767,  622.43508464,  212.41737488,  217.55805638,\n",
              "       2027.48390913, 2702.75689368, 2038.81709221, 1861.80279527,\n",
              "       2876.25275711,  226.18294339,  288.81749251, 2356.68271642,\n",
              "        370.2391166 ,  459.99607765,  600.45760231,  573.68840704,\n",
              "       2496.83578082, 2864.81082456, 2075.20284064,  417.42535111,\n",
              "       2782.37336381, 1370.67367463, 2960.72274725,  570.00768328,\n",
              "       2236.82557051, 2655.53657046,  993.05303701, 1760.2567008 ,\n",
              "       2518.90998328, 4468.6884233 ,  228.94216309, 1734.47303004,\n",
              "       2982.04316396,  559.23260838, 2627.80929269, 1932.98595657,\n",
              "       2981.48384351, 3789.25600936,  386.44692029, 3709.93118094,\n",
              "       3274.83152938,  218.60697645, 1828.21874364, 2928.92119853,\n",
              "       3165.58928727, 2591.75584199, 2282.40143245, 1793.05654092,\n",
              "       1732.78965961,  324.65508986, 4461.10941579, 3372.57660849,\n",
              "       3508.41751851, 3898.17744794, 1181.09156668, 4040.15386325,\n",
              "       3893.99849247, 3305.27973659, 3213.24206229, 2101.43913122,\n",
              "       3254.206536  , 2485.9755387 , 2692.5688607 , 2815.86811267,\n",
              "       4197.26148972, 1889.50367143, 1772.77865154, 3082.8435687 ,\n",
              "       4582.54525484, 2901.75989121, 3969.96063692, 3882.91021085,\n",
              "       3307.92821178, 3139.64969124,  335.39729262, 1929.40272415,\n",
              "       3013.29679665, 2359.33320019, 2566.54849519, 1159.70432897,\n",
              "       1054.27176509, 2969.3712636 ,  556.38530773,  372.18194052,\n",
              "       1774.90544165, 4147.28400564, 1230.13479934, 3710.82820203,\n",
              "       3618.82025065,  383.54130367,  216.90046628,  371.66328608,\n",
              "       3007.07646356, 3185.34140242, 3872.62397209, 1714.62396369,\n",
              "       2100.16283887, 3181.76399852, 1155.66600614, 2078.88634705,\n",
              "       1506.1444953 , 3327.60252902, 1852.33407786, 2966.46430534,\n",
              "       2611.80282838, 1023.2684435 , 3059.37631458, 2424.5751125 ,\n",
              "       3331.34873868, 2604.98272011,  319.91622966, 1596.03898643,\n",
              "       1837.00685614,  368.00370204, 2150.72660783,  451.40273036,\n",
              "       1433.1299908 ,  355.3027011 , 3114.34547537, 3456.27609501,\n",
              "        250.48737411,  547.25229968,  357.91692378, 2420.22826795,\n",
              "       2633.87651796, 1723.59050614,  211.13297246, 3919.75938232,\n",
              "       2633.06790687,  406.55779142,  399.38985898, 3008.25908007,\n",
              "        372.15747386, 2005.26221039, 2054.60912915, 3636.75997291,\n",
              "       2721.51069135, 1511.99735306, 1705.76965806, 1689.98109997,\n",
              "       3369.50201452,  359.44205602, 3641.42989838, 2796.0278027 ,\n",
              "       1753.89952943, 4215.71912616, 1700.05169543,  349.99641868,\n",
              "       4109.91436528, 2802.69676012, 3991.69251694, 2354.93401507,\n",
              "       3248.1165248 , 1842.19117833,  213.23694023, 2596.99394202,\n",
              "       1678.52459191, 3757.05614383, 3348.18415064, 1632.860303  ,\n",
              "       2930.52384392, 3244.69361038, 1988.66414475, 3895.71934905,\n",
              "        318.75799365, 3855.42147116,  411.25639843, 3974.02777808,\n",
              "       2156.27096029, 2339.60723333,  361.96838645, 2018.37870183,\n",
              "       4096.56085303,  358.35006047, 1084.68358812, 2643.08057125,\n",
              "       2428.08356064,  431.85117771, 2348.55378298,  224.86932052,\n",
              "       3178.83731297, 3159.16252371,  223.60187845])"
            ]
          },
          "metadata": {},
          "execution_count": 144
        }
      ]
    },
    {
      "cell_type": "code",
      "source": [
        "yte"
      ],
      "metadata": {
        "colab": {
          "base_uri": "https://localhost:8080/"
        },
        "id": "sNNDUExQX7b2",
        "outputId": "aca58856-22f8-42c4-a5f5-93c81c5ccc1a"
      },
      "execution_count": 145,
      "outputs": [
        {
          "output_type": "execute_result",
          "data": {
            "text/plain": [
              "array([ 692.149414,  625.014465,  224.815186,  232.10997 , 2083.803711,\n",
              "       2755.908447, 2119.865723, 1907.020508, 2676.407471,  238.232376,\n",
              "        300.267822, 2326.869629,  391.041504,  471.63147 ,  617.4021  ,\n",
              "        588.346375, 2308.914795, 2786.253174, 2117.590088,  381.1297  ,\n",
              "       2845.397705, 1181.948242, 2962.4104  ,  559.671387, 2298.026855,\n",
              "       2630.120361,  912.305359, 1770.612061, 2573.655273, 4144.334961,\n",
              "        232.807739, 1789.914185, 3087.490723,  552.469238, 2583.995117,\n",
              "       1922.577881, 3075.911377, 3918.837891,  399.608368, 3703.399902,\n",
              "       3365.817627,  229.341644, 1845.119995, 2900.926025, 3278.670898,\n",
              "       2566.193115, 2312.301514, 1848.206299, 1722.050781,  332.165009,\n",
              "       4580.990234, 3335.376709, 3590.275146, 4033.513916, 1174.38855 ,\n",
              "       3785.848633, 3638.12207 , 3442.000244, 3247.91748 , 2049.962646,\n",
              "       3283.44873 , 2449.353516, 2587.748291, 2868.938965, 4255.455078,\n",
              "       1830.531494, 1749.606323, 3142.00708 , 4718.039063, 3016.421143,\n",
              "       3967.120361, 4027.927002, 3224.764893, 3216.718018,  349.834076,\n",
              "       1926.676758, 3064.485107, 2328.452148, 2555.401367, 1094.701904,\n",
              "       1012.76416 , 3045.28833 ,  577.118408,  386.218475, 1766.490479,\n",
              "       4284.504883, 1225.274048, 3805.885986, 3723.349854,  397.245819,\n",
              "        229.25946 ,  385.039795, 2947.683594, 3157.224121, 3905.706055,\n",
              "       1779.867554, 2138.55957 , 3291.563721, 1157.623779, 2108.829834,\n",
              "       1519.141113, 3385.761719, 1759.199585, 3091.825439, 2336.361328,\n",
              "        994.549072, 3187.469238, 2505.299316, 3365.913086, 2558.233643,\n",
              "        334.545563, 1501.750244, 1580.626587,  382.985107, 2154.731201,\n",
              "        465.704254, 1407.979248,  362.597412, 3211.866943, 3489.805664,\n",
              "        261.047089,  563.106628,  369.336334, 2354.350586, 2728.169922,\n",
              "       1734.617065,  225.133316, 3982.91748 , 2540.684082,  419.770172,\n",
              "        396.678345, 3055.212402,  367.935516, 2032.387695, 2081.923584,\n",
              "       3726.750488, 2786.988281, 1511.103394, 1674.299805, 1378.840942,\n",
              "       3407.338135,  366.642334, 3698.047607, 2704.91626 , 1804.266357,\n",
              "       4288.686523, 1686.542358,  336.06897 , 4160.966797, 2826.107422,\n",
              "       3930.257324, 2409.924072, 3117.381348, 1890.368164,  224.913971,\n",
              "       2682.621826, 1708.679199, 3664.719971, 3370.261963, 1672.6604  ,\n",
              "       3035.535156, 3349.237061, 1916.656128, 3908.340332,  329.340942,\n",
              "       3956.057129,  422.647278, 3989.969971, 2172.515137, 2359.384766,\n",
              "        371.312744, 2057.609131, 3959.227783,  368.727966, 1064.233398,\n",
              "       2667.684326, 2412.197754,  428.45636 , 2315.960205,  234.218658,\n",
              "       3279.0271  , 3214.519775,  235.680969])"
            ]
          },
          "metadata": {},
          "execution_count": 145
        }
      ]
    },
    {
      "cell_type": "code",
      "source": [
        "model.predict([df.iloc[1,0:2].values])\n"
      ],
      "metadata": {
        "id": "6K5r7A6G5k7M",
        "outputId": "404409f3-c476-4503-9d59-c8d735df110b",
        "colab": {
          "base_uri": "https://localhost:8080/"
        }
      },
      "execution_count": 148,
      "outputs": [
        {
          "output_type": "execute_result",
          "data": {
            "text/plain": [
              "array([218.60697645])"
            ]
          },
          "metadata": {},
          "execution_count": 148
        }
      ]
    },
    {
      "cell_type": "code",
      "source": [
        "import numpy as np\n",
        "from sklearn.preprocessing import MinMaxScaler\n",
        "\n",
        "a=3444\n",
        "b=4555\n",
        "m=[[730.358704,  737.952881]]\n",
        "print(ls)\n",
        "model.predict(m)\n"
      ],
      "metadata": {
        "colab": {
          "base_uri": "https://localhost:8080/"
        },
        "id": "pBNbGieiOM4C",
        "outputId": "d0502c23-f4c2-4322-8cf5-0ac654988346"
      },
      "execution_count": 149,
      "outputs": [
        {
          "output_type": "stream",
          "name": "stdout",
          "text": [
            "[[0. 0.]]\n"
          ]
        },
        {
          "output_type": "execute_result",
          "data": {
            "text/plain": [
              "array([692.82294767])"
            ]
          },
          "metadata": {},
          "execution_count": 149
        }
      ]
    },
    {
      "cell_type": "code",
      "source": [
        "import joblib\n",
        "joblib.dump(model,\"eth_vol\")"
      ],
      "metadata": {
        "id": "65fLywteaxBs",
        "colab": {
          "base_uri": "https://localhost:8080/"
        },
        "outputId": "7ef0a709-2fae-402c-bfaa-2a7290100d6f"
      },
      "execution_count": 152,
      "outputs": [
        {
          "output_type": "execute_result",
          "data": {
            "text/plain": [
              "['eth_vol']"
            ]
          },
          "metadata": {},
          "execution_count": 152
        }
      ]
    },
    {
      "cell_type": "code",
      "source": [
        "!pip install streamlit --quiet"
      ],
      "metadata": {
        "id": "Kr3BQYJ0nlA3"
      },
      "execution_count": 153,
      "outputs": []
    },
    {
      "cell_type": "code",
      "source": [
        "%%writefile app.py\n",
        "import streamlit as st\n",
        "import joblib\n",
        "import numpy as np\n",
        "t_mod=joblib.load(\"eth_vol\")\n",
        "st.title(\"ETHERIUM COIN LOW PRICE PREDICTION!!\")\n",
        "st.write(\"\"\"This is basically a website to predict the lowest value that an etheerium coin can reach based on ..\\nOpen market cost and higest price recorded in a day*\"\"\")\n",
        "ip1=st.number_input(\"MARKET OPEN PRICE\")\n",
        "ip2=st.number_input(\"HIGEST RECORDED VALUE\")\n",
        "ls1=np.append(ip1,ip2)\n",
        "op=t_mod.predict([ls1])\n",
        "if st.button(\"PREDICT\"):\n",
        "  st.title(op)\n"
      ],
      "metadata": {
        "id": "A8hZq3Ds5xV-",
        "colab": {
          "base_uri": "https://localhost:8080/"
        },
        "outputId": "375e0f86-99c2-4837-c9ec-83627d9b2451"
      },
      "execution_count": 157,
      "outputs": [
        {
          "output_type": "stream",
          "name": "stdout",
          "text": [
            "Overwriting app.py\n"
          ]
        }
      ]
    },
    {
      "cell_type": "code",
      "source": [
        "!streamlit run app.py & npx localtunnel --port 8501"
      ],
      "metadata": {
        "colab": {
          "base_uri": "https://localhost:8080/"
        },
        "id": "_uBlWVqxLSPV",
        "outputId": "138d501f-2576-4855-f76a-31c05b199efc"
      },
      "execution_count": 160,
      "outputs": [
        {
          "output_type": "stream",
          "name": "stdout",
          "text": [
            "2022-07-01 18:27:46.545 INFO    numexpr.utils: NumExpr defaulting to 2 threads.\n",
            "\u001b[K\u001b[?25hnpx: installed 22 in 2.765s\n",
            "your url is: https://blue-carrots-decide-34-72-126-97.loca.lt\n",
            "\u001b[0m\n",
            "\u001b[34m\u001b[1m  You can now view your Streamlit app in your browser.\u001b[0m\n",
            "\u001b[0m\n",
            "\u001b[34m  Network URL: \u001b[0m\u001b[1mhttp://172.28.0.2:8501\u001b[0m\n",
            "\u001b[34m  External URL: \u001b[0m\u001b[1mhttp://34.72.126.97:8501\u001b[0m\n",
            "\u001b[0m\n",
            "\u001b[34m  Stopping...\u001b[0m\n",
            "^C\n"
          ]
        }
      ]
    }
  ]
}