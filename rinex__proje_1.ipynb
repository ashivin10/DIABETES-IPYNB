{
  "nbformat": 4,
  "nbformat_minor": 0,
  "metadata": {
    "colab": {
      "name": "rinex _proje_1.ipynb",
      "provenance": [],
      "collapsed_sections": [],
      "authorship_tag": "ABX9TyOwwftB9mndZx06oCRItXOm",
      "include_colab_link": true
    },
    "kernelspec": {
      "name": "python3",
      "display_name": "Python 3"
    },
    "language_info": {
      "name": "python"
    }
  },
  "cells": [
    {
      "cell_type": "markdown",
      "metadata": {
        "id": "view-in-github",
        "colab_type": "text"
      },
      "source": [
        "<a href=\"https://colab.research.google.com/github/ashivin10/rinex_majorProject/blob/main/rinex__proje_1.ipynb\" target=\"_parent\"><img src=\"https://colab.research.google.com/assets/colab-badge.svg\" alt=\"Open In Colab\"/></a>"
      ]
    },
    {
      "cell_type": "code",
      "execution_count": 8,
      "metadata": {
        "colab": {
          "base_uri": "https://localhost:8080/",
          "height": 424
        },
        "id": "PE9Mq3OEl5lp",
        "outputId": "59373ca3-82aa-40c8-d4b8-80a4ed3ad898"
      },
      "outputs": [
        {
          "output_type": "execute_result",
          "data": {
            "text/plain": [
              "           Date         Open         High          Low        Close  \\\n",
              "0    2020-06-16   229.762299   236.394302   228.426147   234.416168   \n",
              "1    2020-06-17   234.492371   235.954056   229.341644   233.028275   \n",
              "2    2020-06-18   232.898697   234.570648   228.951431   232.101166   \n",
              "3    2020-06-19   231.954971   232.154114   226.795181   227.138290   \n",
              "4    2020-06-20   226.976364   231.449020   226.640625   229.274261   \n",
              "..          ...          ...          ...          ...          ...   \n",
              "725  2022-06-11  1665.217896  1679.314209  1507.038940  1529.663452   \n",
              "726  2022-06-12  1530.189697  1539.705078  1436.183960  1445.216553   \n",
              "727  2022-06-13  1443.835449  1448.738037  1181.948242  1204.582764   \n",
              "728  2022-06-14  1204.555298  1252.471802  1094.701904  1211.662842   \n",
              "729  2022-06-15  1204.709473  1219.879272  1025.767456  1091.898193   \n",
              "\n",
              "       Adj Close       Volume  \n",
              "0     234.416168   7965648016  \n",
              "1     233.028275   7701391592  \n",
              "2     232.101166   6713800872  \n",
              "3     227.138290   6946372590  \n",
              "4     229.274261   6252830566  \n",
              "..           ...          ...  \n",
              "725  1529.663452  21127089064  \n",
              "726  1445.216553  23465074882  \n",
              "727  1204.582764  45162788786  \n",
              "728  1211.662842  33327826525  \n",
              "729  1091.898193  30485518336  \n",
              "\n",
              "[730 rows x 7 columns]"
            ],
            "text/html": [
              "\n",
              "  <div id=\"df-b3c30822-beb6-4f3f-a587-a70f902b9b92\">\n",
              "    <div class=\"colab-df-container\">\n",
              "      <div>\n",
              "<style scoped>\n",
              "    .dataframe tbody tr th:only-of-type {\n",
              "        vertical-align: middle;\n",
              "    }\n",
              "\n",
              "    .dataframe tbody tr th {\n",
              "        vertical-align: top;\n",
              "    }\n",
              "\n",
              "    .dataframe thead th {\n",
              "        text-align: right;\n",
              "    }\n",
              "</style>\n",
              "<table border=\"1\" class=\"dataframe\">\n",
              "  <thead>\n",
              "    <tr style=\"text-align: right;\">\n",
              "      <th></th>\n",
              "      <th>Date</th>\n",
              "      <th>Open</th>\n",
              "      <th>High</th>\n",
              "      <th>Low</th>\n",
              "      <th>Close</th>\n",
              "      <th>Adj Close</th>\n",
              "      <th>Volume</th>\n",
              "    </tr>\n",
              "  </thead>\n",
              "  <tbody>\n",
              "    <tr>\n",
              "      <th>0</th>\n",
              "      <td>2020-06-16</td>\n",
              "      <td>229.762299</td>\n",
              "      <td>236.394302</td>\n",
              "      <td>228.426147</td>\n",
              "      <td>234.416168</td>\n",
              "      <td>234.416168</td>\n",
              "      <td>7965648016</td>\n",
              "    </tr>\n",
              "    <tr>\n",
              "      <th>1</th>\n",
              "      <td>2020-06-17</td>\n",
              "      <td>234.492371</td>\n",
              "      <td>235.954056</td>\n",
              "      <td>229.341644</td>\n",
              "      <td>233.028275</td>\n",
              "      <td>233.028275</td>\n",
              "      <td>7701391592</td>\n",
              "    </tr>\n",
              "    <tr>\n",
              "      <th>2</th>\n",
              "      <td>2020-06-18</td>\n",
              "      <td>232.898697</td>\n",
              "      <td>234.570648</td>\n",
              "      <td>228.951431</td>\n",
              "      <td>232.101166</td>\n",
              "      <td>232.101166</td>\n",
              "      <td>6713800872</td>\n",
              "    </tr>\n",
              "    <tr>\n",
              "      <th>3</th>\n",
              "      <td>2020-06-19</td>\n",
              "      <td>231.954971</td>\n",
              "      <td>232.154114</td>\n",
              "      <td>226.795181</td>\n",
              "      <td>227.138290</td>\n",
              "      <td>227.138290</td>\n",
              "      <td>6946372590</td>\n",
              "    </tr>\n",
              "    <tr>\n",
              "      <th>4</th>\n",
              "      <td>2020-06-20</td>\n",
              "      <td>226.976364</td>\n",
              "      <td>231.449020</td>\n",
              "      <td>226.640625</td>\n",
              "      <td>229.274261</td>\n",
              "      <td>229.274261</td>\n",
              "      <td>6252830566</td>\n",
              "    </tr>\n",
              "    <tr>\n",
              "      <th>...</th>\n",
              "      <td>...</td>\n",
              "      <td>...</td>\n",
              "      <td>...</td>\n",
              "      <td>...</td>\n",
              "      <td>...</td>\n",
              "      <td>...</td>\n",
              "      <td>...</td>\n",
              "    </tr>\n",
              "    <tr>\n",
              "      <th>725</th>\n",
              "      <td>2022-06-11</td>\n",
              "      <td>1665.217896</td>\n",
              "      <td>1679.314209</td>\n",
              "      <td>1507.038940</td>\n",
              "      <td>1529.663452</td>\n",
              "      <td>1529.663452</td>\n",
              "      <td>21127089064</td>\n",
              "    </tr>\n",
              "    <tr>\n",
              "      <th>726</th>\n",
              "      <td>2022-06-12</td>\n",
              "      <td>1530.189697</td>\n",
              "      <td>1539.705078</td>\n",
              "      <td>1436.183960</td>\n",
              "      <td>1445.216553</td>\n",
              "      <td>1445.216553</td>\n",
              "      <td>23465074882</td>\n",
              "    </tr>\n",
              "    <tr>\n",
              "      <th>727</th>\n",
              "      <td>2022-06-13</td>\n",
              "      <td>1443.835449</td>\n",
              "      <td>1448.738037</td>\n",
              "      <td>1181.948242</td>\n",
              "      <td>1204.582764</td>\n",
              "      <td>1204.582764</td>\n",
              "      <td>45162788786</td>\n",
              "    </tr>\n",
              "    <tr>\n",
              "      <th>728</th>\n",
              "      <td>2022-06-14</td>\n",
              "      <td>1204.555298</td>\n",
              "      <td>1252.471802</td>\n",
              "      <td>1094.701904</td>\n",
              "      <td>1211.662842</td>\n",
              "      <td>1211.662842</td>\n",
              "      <td>33327826525</td>\n",
              "    </tr>\n",
              "    <tr>\n",
              "      <th>729</th>\n",
              "      <td>2022-06-15</td>\n",
              "      <td>1204.709473</td>\n",
              "      <td>1219.879272</td>\n",
              "      <td>1025.767456</td>\n",
              "      <td>1091.898193</td>\n",
              "      <td>1091.898193</td>\n",
              "      <td>30485518336</td>\n",
              "    </tr>\n",
              "  </tbody>\n",
              "</table>\n",
              "<p>730 rows × 7 columns</p>\n",
              "</div>\n",
              "      <button class=\"colab-df-convert\" onclick=\"convertToInteractive('df-b3c30822-beb6-4f3f-a587-a70f902b9b92')\"\n",
              "              title=\"Convert this dataframe to an interactive table.\"\n",
              "              style=\"display:none;\">\n",
              "        \n",
              "  <svg xmlns=\"http://www.w3.org/2000/svg\" height=\"24px\"viewBox=\"0 0 24 24\"\n",
              "       width=\"24px\">\n",
              "    <path d=\"M0 0h24v24H0V0z\" fill=\"none\"/>\n",
              "    <path d=\"M18.56 5.44l.94 2.06.94-2.06 2.06-.94-2.06-.94-.94-2.06-.94 2.06-2.06.94zm-11 1L8.5 8.5l.94-2.06 2.06-.94-2.06-.94L8.5 2.5l-.94 2.06-2.06.94zm10 10l.94 2.06.94-2.06 2.06-.94-2.06-.94-.94-2.06-.94 2.06-2.06.94z\"/><path d=\"M17.41 7.96l-1.37-1.37c-.4-.4-.92-.59-1.43-.59-.52 0-1.04.2-1.43.59L10.3 9.45l-7.72 7.72c-.78.78-.78 2.05 0 2.83L4 21.41c.39.39.9.59 1.41.59.51 0 1.02-.2 1.41-.59l7.78-7.78 2.81-2.81c.8-.78.8-2.07 0-2.86zM5.41 20L4 18.59l7.72-7.72 1.47 1.35L5.41 20z\"/>\n",
              "  </svg>\n",
              "      </button>\n",
              "      \n",
              "  <style>\n",
              "    .colab-df-container {\n",
              "      display:flex;\n",
              "      flex-wrap:wrap;\n",
              "      gap: 12px;\n",
              "    }\n",
              "\n",
              "    .colab-df-convert {\n",
              "      background-color: #E8F0FE;\n",
              "      border: none;\n",
              "      border-radius: 50%;\n",
              "      cursor: pointer;\n",
              "      display: none;\n",
              "      fill: #1967D2;\n",
              "      height: 32px;\n",
              "      padding: 0 0 0 0;\n",
              "      width: 32px;\n",
              "    }\n",
              "\n",
              "    .colab-df-convert:hover {\n",
              "      background-color: #E2EBFA;\n",
              "      box-shadow: 0px 1px 2px rgba(60, 64, 67, 0.3), 0px 1px 3px 1px rgba(60, 64, 67, 0.15);\n",
              "      fill: #174EA6;\n",
              "    }\n",
              "\n",
              "    [theme=dark] .colab-df-convert {\n",
              "      background-color: #3B4455;\n",
              "      fill: #D2E3FC;\n",
              "    }\n",
              "\n",
              "    [theme=dark] .colab-df-convert:hover {\n",
              "      background-color: #434B5C;\n",
              "      box-shadow: 0px 1px 3px 1px rgba(0, 0, 0, 0.15);\n",
              "      filter: drop-shadow(0px 1px 2px rgba(0, 0, 0, 0.3));\n",
              "      fill: #FFFFFF;\n",
              "    }\n",
              "  </style>\n",
              "\n",
              "      <script>\n",
              "        const buttonEl =\n",
              "          document.querySelector('#df-b3c30822-beb6-4f3f-a587-a70f902b9b92 button.colab-df-convert');\n",
              "        buttonEl.style.display =\n",
              "          google.colab.kernel.accessAllowed ? 'block' : 'none';\n",
              "\n",
              "        async function convertToInteractive(key) {\n",
              "          const element = document.querySelector('#df-b3c30822-beb6-4f3f-a587-a70f902b9b92');\n",
              "          const dataTable =\n",
              "            await google.colab.kernel.invokeFunction('convertToInteractive',\n",
              "                                                     [key], {});\n",
              "          if (!dataTable) return;\n",
              "\n",
              "          const docLinkHtml = 'Like what you see? Visit the ' +\n",
              "            '<a target=\"_blank\" href=https://colab.research.google.com/notebooks/data_table.ipynb>data table notebook</a>'\n",
              "            + ' to learn more about interactive tables.';\n",
              "          element.innerHTML = '';\n",
              "          dataTable['output_type'] = 'display_data';\n",
              "          await google.colab.output.renderOutput(dataTable, element);\n",
              "          const docLink = document.createElement('div');\n",
              "          docLink.innerHTML = docLinkHtml;\n",
              "          element.appendChild(docLink);\n",
              "        }\n",
              "      </script>\n",
              "    </div>\n",
              "  </div>\n",
              "  "
            ]
          },
          "metadata": {},
          "execution_count": 8
        }
      ],
      "source": [
        "import pandas as pd\n",
        "df=pd.read_csv(\"/content/ETH.csv\")\n",
        "df"
      ]
    },
    {
      "cell_type": "code",
      "source": [
        "df.info()"
      ],
      "metadata": {
        "colab": {
          "base_uri": "https://localhost:8080/"
        },
        "id": "boS27rqpn7xX",
        "outputId": "72143408-9a7d-46e2-e4c9-28d0bbb219f2"
      },
      "execution_count": 9,
      "outputs": [
        {
          "output_type": "stream",
          "name": "stdout",
          "text": [
            "<class 'pandas.core.frame.DataFrame'>\n",
            "RangeIndex: 730 entries, 0 to 729\n",
            "Data columns (total 7 columns):\n",
            " #   Column     Non-Null Count  Dtype  \n",
            "---  ------     --------------  -----  \n",
            " 0   Date       730 non-null    object \n",
            " 1   Open       730 non-null    float64\n",
            " 2   High       730 non-null    float64\n",
            " 3   Low        730 non-null    float64\n",
            " 4   Close      730 non-null    float64\n",
            " 5   Adj Close  730 non-null    float64\n",
            " 6   Volume     730 non-null    int64  \n",
            "dtypes: float64(5), int64(1), object(1)\n",
            "memory usage: 40.0+ KB\n"
          ]
        }
      ]
    },
    {
      "cell_type": "code",
      "source": [
        "df.shape\n"
      ],
      "metadata": {
        "colab": {
          "base_uri": "https://localhost:8080/"
        },
        "id": "RgPZAXZI72sy",
        "outputId": "73c820d3-4538-4b3d-c51e-341367e66247"
      },
      "execution_count": 4,
      "outputs": [
        {
          "output_type": "execute_result",
          "data": {
            "text/plain": [
              "(730, 7)"
            ]
          },
          "metadata": {},
          "execution_count": 4
        }
      ]
    },
    {
      "cell_type": "code",
      "source": [
        "df=df.drop(labels=[\"Date\"],axis=1)\n"
      ],
      "metadata": {
        "id": "pqF-AIJzoMov"
      },
      "execution_count": 10,
      "outputs": []
    },
    {
      "cell_type": "code",
      "source": [
        "df.info()"
      ],
      "metadata": {
        "colab": {
          "base_uri": "https://localhost:8080/"
        },
        "id": "gT3o_abDDe_s",
        "outputId": "d8c40e78-cb43-422a-f45d-971ec499fca1"
      },
      "execution_count": 11,
      "outputs": [
        {
          "output_type": "stream",
          "name": "stdout",
          "text": [
            "<class 'pandas.core.frame.DataFrame'>\n",
            "RangeIndex: 730 entries, 0 to 729\n",
            "Data columns (total 6 columns):\n",
            " #   Column     Non-Null Count  Dtype  \n",
            "---  ------     --------------  -----  \n",
            " 0   Open       730 non-null    float64\n",
            " 1   High       730 non-null    float64\n",
            " 2   Low        730 non-null    float64\n",
            " 3   Close      730 non-null    float64\n",
            " 4   Adj Close  730 non-null    float64\n",
            " 5   Volume     730 non-null    int64  \n",
            "dtypes: float64(5), int64(1)\n",
            "memory usage: 34.3 KB\n"
          ]
        }
      ]
    },
    {
      "cell_type": "code",
      "source": [
        "#seperating input and output\n",
        "x=df.iloc[:,0:2].values\n",
        "y=df.iloc[:,2].values\n"
      ],
      "metadata": {
        "id": "9VxuOwXJqT9T"
      },
      "execution_count": 39,
      "outputs": []
    },
    {
      "cell_type": "code",
      "source": [
        "#splits x and y to 75% and 25%\n",
        "from sklearn.model_selection import train_test_split\n",
        "xtr,xte,ytr,yte=train_test_split(x,y,random_state=0)\n",
        "xtr"
      ],
      "metadata": {
        "id": "Bd89Nx68U6dX",
        "colab": {
          "base_uri": "https://localhost:8080/"
        },
        "outputId": "448e57b8-e004-4d10-c635-f9fd471a88d0"
      },
      "execution_count": 40,
      "outputs": [
        {
          "output_type": "execute_result",
          "data": {
            "text/plain": [
              "array([[3209.030518, 3346.526367],\n",
              "       [3382.657227, 3437.935791],\n",
              "       [4523.981934, 4640.921875],\n",
              "       ...,\n",
              "       [2555.297607, 2639.943115],\n",
              "       [4064.746338, 4126.001465],\n",
              "       [2729.994141, 2838.704346]])"
            ]
          },
          "metadata": {},
          "execution_count": 40
        }
      ]
    },
    {
      "cell_type": "code",
      "source": [
        "from sklearn.preprocessing import MinMaxScaler\n",
        "from sklearn.linear_model import LinearRegression\n",
        "sc=MinMaxScaler()\n",
        "xtr=sc.fit_transform(xtr)\n",
        "xte=sc.fit_transform(xte)\n",
        "model=LinearRegression()\n",
        "model.fit(xtr,ytr)"
      ],
      "metadata": {
        "colab": {
          "base_uri": "https://localhost:8080/"
        },
        "id": "Fo_uKxMVV9qb",
        "outputId": "40a405d6-5054-4173-b8f3-2b28a3eb381e"
      },
      "execution_count": 41,
      "outputs": [
        {
          "output_type": "execute_result",
          "data": {
            "text/plain": [
              "LinearRegression()"
            ]
          },
          "metadata": {},
          "execution_count": 41
        }
      ]
    },
    {
      "cell_type": "code",
      "source": [
        "ypred=model.predict(xte)\n",
        "ypred"
      ],
      "metadata": {
        "colab": {
          "base_uri": "https://localhost:8080/"
        },
        "id": "w1c8F9UfXrvX",
        "outputId": "c292df47-90c9-4ce7-cf3d-84df21a78666"
      },
      "execution_count": 42,
      "outputs": [
        {
          "output_type": "execute_result",
          "data": {
            "text/plain": [
              "array([ 685.20760694,  615.6730889 ,  210.71506337,  215.79061629,\n",
              "       2003.52237764, 2670.72015519, 2014.64428288, 1839.99526156,\n",
              "       2841.95742234,  224.31217288,  286.19711996, 2328.57455573,\n",
              "        366.604806  ,  455.32795785,  594.01798411,  567.57851343,\n",
              "       2467.16965008, 2830.42325965, 2050.70711572,  413.21103936,\n",
              "       2749.03226001, 1354.69044984, 2925.32259808,  563.89342511,\n",
              "       2210.3225958 , 2623.71487584,  982.10191594, 1739.51713528,\n",
              "       2489.15435077, 4415.17835945,  227.04214249, 1714.06499039,\n",
              "       2946.33610254,  553.25489262, 2596.59569014, 1910.06970696,\n",
              "       2945.87008807, 3743.68901384,  382.65788068, 3666.06423053,\n",
              "       3235.69631091,  216.82820771, 1806.59560916, 2894.08185108,\n",
              "       3127.57255398, 2560.69857003, 2255.35654004, 1772.07405555,\n",
              "       1712.36775481,  321.61149394, 4407.30295717, 3331.88708277,\n",
              "       3466.52001882, 3851.31989253, 1167.50660374, 3991.6388023 ,\n",
              "       3846.99287147, 3265.57644927, 3174.57237167, 2076.65754363,\n",
              "       3215.01215318, 2456.26880166, 2660.26836551, 2782.28601187,\n",
              "       4146.42107449, 1867.27615431, 1751.90097062, 3045.82971975,\n",
              "       4526.98954608, 2866.95208847, 3921.93202732, 3836.11897126,\n",
              "       3268.32157579, 3102.18885705,  332.18993364, 1906.59659859,\n",
              "       2977.44413131, 2331.23754231, 2536.16656718, 1146.41752497,\n",
              "       1042.31351677, 2933.77346647,  550.43804474,  368.54169001,\n",
              "       1753.936487  , 4097.39540214, 1216.23232833, 3666.17724706,\n",
              "       3575.34499183,  379.75828188,  215.14179477,  367.99523932,\n",
              "       2970.93864635, 3146.97225654, 3826.56982471, 1694.46078017,\n",
              "       2075.56073482, 3143.52878716, 1142.58332826, 2054.17178361,\n",
              "       1488.77785197, 3287.90995549, 1830.43576701, 2930.87283455,\n",
              "       2580.53949755, 1011.75788424, 3022.70321335, 2395.76692482,\n",
              "       3291.56957618, 2574.03701673,  316.8878042 , 1577.29207372,\n",
              "       1815.26217032,  364.41052208, 2125.29926283,  446.75038667,\n",
              "       1416.54104171,  351.83915439, 3076.93255229, 3414.68553122,\n",
              "        248.34530317,  541.47562703,  354.47181218, 2391.30828384,\n",
              "       2602.38328845, 1703.34291424,  209.45361534, 3873.0094989 ,\n",
              "       2601.75150426,  402.47919896,  395.38492354, 2972.07975011,\n",
              "        368.48790275, 1981.54413267, 2030.27226323, 3592.82387071,\n",
              "       2689.15306998, 1494.36554304, 1685.69349382, 1670.04817758,\n",
              "       3328.85041718,  355.9671079 , 3597.4383257 , 2762.46968372,\n",
              "       1733.24992029, 4165.23414695, 1680.12257661,  346.60309749,\n",
              "       4060.32349115, 2769.06004791, 3943.73001755, 2327.03443966,\n",
              "       3208.9680741 , 1820.5019159 ,  211.52190353, 2566.12179816,\n",
              "       1658.87013027, 3712.11286127, 3307.97710564, 1613.6586092 ,\n",
              "       2895.4348765 , 3205.65534787, 1965.07255201, 3848.81048981,\n",
              "        315.77107522, 3808.97188966,  407.11702767, 3926.34712135,\n",
              "       2130.89073163, 2311.78733119,  358.4317929 , 1994.48573384,\n",
              "       4047.06191287,  354.91312732, 1072.45431808, 2611.78933743,\n",
              "       2399.2960986 ,  427.46253241, 2321.11488117,  223.01383951,\n",
              "       3140.8252319 , 3121.11991549,  221.77987579])"
            ]
          },
          "metadata": {},
          "execution_count": 42
        }
      ]
    },
    {
      "cell_type": "code",
      "source": [
        "yte"
      ],
      "metadata": {
        "colab": {
          "base_uri": "https://localhost:8080/"
        },
        "id": "sNNDUExQX7b2",
        "outputId": "9963807d-9ff6-4007-9a43-65f660fc501d"
      },
      "execution_count": 48,
      "outputs": [
        {
          "output_type": "execute_result",
          "data": {
            "text/plain": [
              "array([ 692.149414,  625.014465,  224.815186,  232.10997 , 2083.803711,\n",
              "       2755.908447, 2119.865723, 1907.020508, 2676.407471,  238.232376,\n",
              "        300.267822, 2326.869629,  391.041504,  471.63147 ,  617.4021  ,\n",
              "        588.346375, 2308.914795, 2786.253174, 2117.590088,  381.1297  ,\n",
              "       2845.397705, 1181.948242, 2962.4104  ,  559.671387, 2298.026855,\n",
              "       2630.120361,  912.305359, 1770.612061, 2573.655273, 4144.334961,\n",
              "        232.807739, 1789.914185, 3087.490723,  552.469238, 2583.995117,\n",
              "       1922.577881, 3075.911377, 3918.837891,  399.608368, 3703.399902,\n",
              "       3365.817627,  229.341644, 1845.119995, 2900.926025, 3278.670898,\n",
              "       2566.193115, 2312.301514, 1848.206299, 1722.050781,  332.165009,\n",
              "       4580.990234, 3335.376709, 3590.275146, 4033.513916, 1174.38855 ,\n",
              "       3785.848633, 3638.12207 , 3442.000244, 3247.91748 , 2049.962646,\n",
              "       3283.44873 , 2449.353516, 2587.748291, 2868.938965, 4255.455078,\n",
              "       1830.531494, 1749.606323, 3142.00708 , 4718.039063, 3016.421143,\n",
              "       3967.120361, 4027.927002, 3224.764893, 3216.718018,  349.834076,\n",
              "       1926.676758, 3064.485107, 2328.452148, 2555.401367, 1094.701904,\n",
              "       1012.76416 , 3045.28833 ,  577.118408,  386.218475, 1766.490479,\n",
              "       4284.504883, 1225.274048, 3805.885986, 3723.349854,  397.245819,\n",
              "        229.25946 ,  385.039795, 2947.683594, 3157.224121, 3905.706055,\n",
              "       1779.867554, 2138.55957 , 3291.563721, 1157.623779, 2108.829834,\n",
              "       1519.141113, 3385.761719, 1759.199585, 3091.825439, 2336.361328,\n",
              "        994.549072, 3187.469238, 2505.299316, 3365.913086, 2558.233643,\n",
              "        334.545563, 1501.750244, 1580.626587,  382.985107, 2154.731201,\n",
              "        465.704254, 1407.979248,  362.597412, 3211.866943, 3489.805664,\n",
              "        261.047089,  563.106628,  369.336334, 2354.350586, 2728.169922,\n",
              "       1734.617065,  225.133316, 3982.91748 , 2540.684082,  419.770172,\n",
              "        396.678345, 3055.212402,  367.935516, 2032.387695, 2081.923584,\n",
              "       3726.750488, 2786.988281, 1511.103394, 1674.299805, 1378.840942,\n",
              "       3407.338135,  366.642334, 3698.047607, 2704.91626 , 1804.266357,\n",
              "       4288.686523, 1686.542358,  336.06897 , 4160.966797, 2826.107422,\n",
              "       3930.257324, 2409.924072, 3117.381348, 1890.368164,  224.913971,\n",
              "       2682.621826, 1708.679199, 3664.719971, 3370.261963, 1672.6604  ,\n",
              "       3035.535156, 3349.237061, 1916.656128, 3908.340332,  329.340942,\n",
              "       3956.057129,  422.647278, 3989.969971, 2172.515137, 2359.384766,\n",
              "        371.312744, 2057.609131, 3959.227783,  368.727966, 1064.233398,\n",
              "       2667.684326, 2412.197754,  428.45636 , 2315.960205,  234.218658,\n",
              "       3279.0271  , 3214.519775,  235.680969])"
            ]
          },
          "metadata": {},
          "execution_count": 48
        }
      ]
    },
    {
      "cell_type": "code",
      "source": [
        "import numpy as np\n",
        "a=229\n",
        "b=254\n",
        "ls=np.array([])\n",
        "ls=np.append(a,b)\n",
        "print(ls)\n",
        "from sklearn.preprocessing import MinMaxScaler\n",
        "sc=MinMaxScaler()\n",
        "ls=sc.fit_transform([ls])\n",
        "model.predict(ls)\n"
      ],
      "metadata": {
        "colab": {
          "base_uri": "https://localhost:8080/"
        },
        "id": "pBNbGieiOM4C",
        "outputId": "b32dec90-2d5f-46ab-b838-74099830b5f2"
      },
      "execution_count": 53,
      "outputs": [
        {
          "output_type": "stream",
          "name": "stdout",
          "text": [
            "[229 254]\n"
          ]
        },
        {
          "output_type": "execute_result",
          "data": {
            "text/plain": [
              "array([209.23079346])"
            ]
          },
          "metadata": {},
          "execution_count": 53
        }
      ]
    },
    {
      "cell_type": "code",
      "source": [
        "import joblib\n",
        "joblib.dump(model,\"eth_vol\")"
      ],
      "metadata": {
        "id": "65fLywteaxBs",
        "colab": {
          "base_uri": "https://localhost:8080/"
        },
        "outputId": "f6940d62-f45a-40db-8397-4f79f5e43bc3"
      },
      "execution_count": 19,
      "outputs": [
        {
          "output_type": "execute_result",
          "data": {
            "text/plain": [
              "['eth_vol']"
            ]
          },
          "metadata": {},
          "execution_count": 19
        }
      ]
    },
    {
      "cell_type": "code",
      "source": [
        "!pip install streamlit --quiet"
      ],
      "metadata": {
        "id": "Kr3BQYJ0nlA3"
      },
      "execution_count": 58,
      "outputs": []
    },
    {
      "cell_type": "code",
      "source": [
        "%%writefile app.py\n",
        "import streamlit as st\n",
        "import joblib\n",
        "import numpy as np\n",
        "model=joblib.load(\"eth_vol\")\n",
        "st.title(\"ETHERIUM COIN LOW PRICE PREDICTION!!\")\n",
        "st.write(\"\"\"This is basically a website to predict the lowest value that an etheerium coin can reach based on ..\\nOpen market cost and higest price recorded in a day*\"\"\")\n",
        "ip1=st.number_input(\"MARKET OPEN PRICE\")\n",
        "ip2=st.number_input(\"HIGEST RECORDED VALUE\")\n",
        "ls=np.append(ip1,ip2)\n",
        "from sklearn.preprocessing import MinMaxScaler\n",
        "sc=MinMaxScaler()\n",
        "ls=sc.fit_transform([ls])\n",
        "op=model.predict(ls)\n",
        "if st.button(\"PREDICT\"):\n",
        "  st.title(op)\n"
      ],
      "metadata": {
        "id": "A8hZq3Ds5xV-",
        "colab": {
          "base_uri": "https://localhost:8080/"
        },
        "outputId": "7883115c-79bf-409e-8546-a50c62b2ef58"
      },
      "execution_count": 62,
      "outputs": [
        {
          "output_type": "stream",
          "name": "stdout",
          "text": [
            "Overwriting app.py\n"
          ]
        }
      ]
    },
    {
      "cell_type": "code",
      "source": [
        "!streamlit run app.py & npx localtunnel --port 8501"
      ],
      "metadata": {
        "colab": {
          "base_uri": "https://localhost:8080/"
        },
        "id": "_uBlWVqxLSPV",
        "outputId": "ed2c9a84-2cfb-40f5-b9eb-3b5fa4e0d13d"
      },
      "execution_count": 64,
      "outputs": [
        {
          "output_type": "stream",
          "name": "stdout",
          "text": [
            "2022-07-01 15:39:16.986 INFO    numexpr.utils: NumExpr defaulting to 2 threads.\n",
            "\u001b[0m\n",
            "\u001b[34m\u001b[1m  You can now view your Streamlit app in your browser.\u001b[0m\n",
            "\u001b[0m\n",
            "\u001b[34m  Network URL: \u001b[0m\u001b[1mhttp://172.28.0.2:8501\u001b[0m\n",
            "\u001b[34m  External URL: \u001b[0m\u001b[1mhttp://34.72.126.97:8501\u001b[0m\n",
            "\u001b[0m\n",
            "\u001b[K\u001b[?25hnpx: installed 22 in 2.962s\n",
            "your url is: https://itchy-melons-dig-34-72-126-97.loca.lt\n",
            "\u001b[34m  Stopping...\u001b[0m\n",
            "^C\n"
          ]
        }
      ]
    }
  ]
}